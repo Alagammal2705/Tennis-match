{
 "cells": [
  {
   "cell_type": "code",
   "execution_count": 9,
   "metadata": {},
   "outputs": [],
   "source": [
    "import pickle\n",
    "import pandas as pd\n",
    "import matplotlib.pyplot as plt"
   ]
  },
  {
   "cell_type": "code",
   "execution_count": 3,
   "metadata": {},
   "outputs": [],
   "source": [
    "with open(\"../tracker_stubs/ball_detections.pki\",'rb') as f:\n",
    "    ball_positions = pickle.load(f)"
   ]
  },
  {
   "cell_type": "code",
   "execution_count": 1,
   "metadata": {},
   "outputs": [
    {
     "ename": "NameError",
     "evalue": "name 'ball_positions' is not defined",
     "output_type": "error",
     "traceback": [
      "\u001b[1;31m---------------------------------------------------------------------------\u001b[0m",
      "\u001b[1;31mNameError\u001b[0m                                 Traceback (most recent call last)",
      "Cell \u001b[1;32mIn[1], line 1\u001b[0m\n\u001b[1;32m----> 1\u001b[0m ball_positions \u001b[38;5;241m=\u001b[39m [x\u001b[38;5;241m.\u001b[39mget(\u001b[38;5;241m1\u001b[39m,[]) \u001b[38;5;28;01mfor\u001b[39;00m x \u001b[38;5;129;01min\u001b[39;00m \u001b[43mball_positions\u001b[49m]\n\u001b[0;32m      3\u001b[0m \u001b[38;5;66;03m# Convert the list into pandas dataframe\u001b[39;00m\n\u001b[0;32m      4\u001b[0m df_ball_positions \u001b[38;5;241m=\u001b[39m pd\u001b[38;5;241m.\u001b[39mDataFrame(ball_positions,columns \u001b[38;5;241m=\u001b[39m [\u001b[38;5;124m'\u001b[39m\u001b[38;5;124mx1\u001b[39m\u001b[38;5;124m'\u001b[39m,\u001b[38;5;124m'\u001b[39m\u001b[38;5;124my1\u001b[39m\u001b[38;5;124m'\u001b[39m,\u001b[38;5;124m'\u001b[39m\u001b[38;5;124mx2\u001b[39m\u001b[38;5;124m'\u001b[39m,\u001b[38;5;124m'\u001b[39m\u001b[38;5;124my2\u001b[39m\u001b[38;5;124m'\u001b[39m])\n",
      "\u001b[1;31mNameError\u001b[0m: name 'ball_positions' is not defined"
     ]
    }
   ],
   "source": [
    "ball_positions = [x.get(1,[]) for x in ball_positions]\n",
    "        \n",
    "# Convert the list into pandas dataframe\n",
    "df_ball_positions = pd.DataFrame(ball_positions,columns = ['x1','y1','x2','y2'])\n",
    "\n",
    "#interpolate the missing values\n",
    "df_ball_positions=df_ball_positions.interpolate()\n",
    "df_ball_positions = df_ball_positions.bfill()\n"
   ]
  },
  {
   "cell_type": "code",
   "execution_count": 7,
   "metadata": {},
   "outputs": [],
   "source": [
    "df_ball_positions['mid_y'] = (df_ball_positions['y1']+df_ball_positions['y2'])/2\n",
    "df_ball_positions['mid_y_rolling_mean'] = df_ball_positions['mid_y'].rolling(window=5,min_periods=1,center=False).mean()"
   ]
  },
  {
   "cell_type": "code",
   "execution_count": null,
   "metadata": {},
   "outputs": [],
   "source": [
    "plt.plot(df_ball_positions['mid_y_rolling_mean'])"
   ]
  },
  {
   "cell_type": "code",
   "execution_count": 11,
   "metadata": {},
   "outputs": [],
   "source": [
    "df_ball_positions['delta_y'] = df_ball_positions['mid_y_rolling_mean'].diff()"
   ]
  },
  {
   "cell_type": "code",
   "execution_count": null,
   "metadata": {},
   "outputs": [],
   "source": [
    "plt.plot(df_ball_positions['delta_y'])"
   ]
  },
  {
   "cell_type": "code",
   "execution_count": 13,
   "metadata": {},
   "outputs": [],
   "source": [
    "df_ball_positions['ball_hit']= 0\n"
   ]
  },
  {
   "cell_type": "code",
   "execution_count": 15,
   "metadata": {},
   "outputs": [
    {
     "name": "stderr",
     "output_type": "stream",
     "text": [
      "C:\\Users\\alaga\\AppData\\Local\\Temp\\ipykernel_11016\\2021909761.py:17: FutureWarning: ChainedAssignmentError: behaviour will change in pandas 3.0!\n",
      "You are setting values through chained assignment. Currently this works in certain cases, but when using Copy-on-Write (which will become the default behaviour in pandas 3.0) this will never work to update the original DataFrame or Series, because the intermediate object on which we are setting values will behave as a copy.\n",
      "A typical example is when you are setting values in a column of a DataFrame, like:\n",
      "\n",
      "df[\"col\"][row_indexer] = value\n",
      "\n",
      "Use `df.loc[row_indexer, \"col\"] = values` instead, to perform the assignment in a single step and ensure this keeps updating the original `df`.\n",
      "\n",
      "See the caveats in the documentation: https://pandas.pydata.org/pandas-docs/stable/user_guide/indexing.html#returning-a-view-versus-a-copy\n",
      "\n",
      "  df_ball_positions['ball_hit'].iloc[i] =1\n",
      "C:\\Users\\alaga\\AppData\\Local\\Temp\\ipykernel_11016\\2021909761.py:17: SettingWithCopyWarning: \n",
      "A value is trying to be set on a copy of a slice from a DataFrame\n",
      "\n",
      "See the caveats in the documentation: https://pandas.pydata.org/pandas-docs/stable/user_guide/indexing.html#returning-a-view-versus-a-copy\n",
      "  df_ball_positions['ball_hit'].iloc[i] =1\n",
      "C:\\Users\\alaga\\AppData\\Local\\Temp\\ipykernel_11016\\2021909761.py:17: FutureWarning: ChainedAssignmentError: behaviour will change in pandas 3.0!\n",
      "You are setting values through chained assignment. Currently this works in certain cases, but when using Copy-on-Write (which will become the default behaviour in pandas 3.0) this will never work to update the original DataFrame or Series, because the intermediate object on which we are setting values will behave as a copy.\n",
      "A typical example is when you are setting values in a column of a DataFrame, like:\n",
      "\n",
      "df[\"col\"][row_indexer] = value\n",
      "\n",
      "Use `df.loc[row_indexer, \"col\"] = values` instead, to perform the assignment in a single step and ensure this keeps updating the original `df`.\n",
      "\n",
      "See the caveats in the documentation: https://pandas.pydata.org/pandas-docs/stable/user_guide/indexing.html#returning-a-view-versus-a-copy\n",
      "\n",
      "  df_ball_positions['ball_hit'].iloc[i] =1\n",
      "C:\\Users\\alaga\\AppData\\Local\\Temp\\ipykernel_11016\\2021909761.py:17: SettingWithCopyWarning: \n",
      "A value is trying to be set on a copy of a slice from a DataFrame\n",
      "\n",
      "See the caveats in the documentation: https://pandas.pydata.org/pandas-docs/stable/user_guide/indexing.html#returning-a-view-versus-a-copy\n",
      "  df_ball_positions['ball_hit'].iloc[i] =1\n",
      "C:\\Users\\alaga\\AppData\\Local\\Temp\\ipykernel_11016\\2021909761.py:17: FutureWarning: ChainedAssignmentError: behaviour will change in pandas 3.0!\n",
      "You are setting values through chained assignment. Currently this works in certain cases, but when using Copy-on-Write (which will become the default behaviour in pandas 3.0) this will never work to update the original DataFrame or Series, because the intermediate object on which we are setting values will behave as a copy.\n",
      "A typical example is when you are setting values in a column of a DataFrame, like:\n",
      "\n",
      "df[\"col\"][row_indexer] = value\n",
      "\n",
      "Use `df.loc[row_indexer, \"col\"] = values` instead, to perform the assignment in a single step and ensure this keeps updating the original `df`.\n",
      "\n",
      "See the caveats in the documentation: https://pandas.pydata.org/pandas-docs/stable/user_guide/indexing.html#returning-a-view-versus-a-copy\n",
      "\n",
      "  df_ball_positions['ball_hit'].iloc[i] =1\n",
      "C:\\Users\\alaga\\AppData\\Local\\Temp\\ipykernel_11016\\2021909761.py:17: SettingWithCopyWarning: \n",
      "A value is trying to be set on a copy of a slice from a DataFrame\n",
      "\n",
      "See the caveats in the documentation: https://pandas.pydata.org/pandas-docs/stable/user_guide/indexing.html#returning-a-view-versus-a-copy\n",
      "  df_ball_positions['ball_hit'].iloc[i] =1\n",
      "C:\\Users\\alaga\\AppData\\Local\\Temp\\ipykernel_11016\\2021909761.py:17: FutureWarning: ChainedAssignmentError: behaviour will change in pandas 3.0!\n",
      "You are setting values through chained assignment. Currently this works in certain cases, but when using Copy-on-Write (which will become the default behaviour in pandas 3.0) this will never work to update the original DataFrame or Series, because the intermediate object on which we are setting values will behave as a copy.\n",
      "A typical example is when you are setting values in a column of a DataFrame, like:\n",
      "\n",
      "df[\"col\"][row_indexer] = value\n",
      "\n",
      "Use `df.loc[row_indexer, \"col\"] = values` instead, to perform the assignment in a single step and ensure this keeps updating the original `df`.\n",
      "\n",
      "See the caveats in the documentation: https://pandas.pydata.org/pandas-docs/stable/user_guide/indexing.html#returning-a-view-versus-a-copy\n",
      "\n",
      "  df_ball_positions['ball_hit'].iloc[i] =1\n",
      "C:\\Users\\alaga\\AppData\\Local\\Temp\\ipykernel_11016\\2021909761.py:17: SettingWithCopyWarning: \n",
      "A value is trying to be set on a copy of a slice from a DataFrame\n",
      "\n",
      "See the caveats in the documentation: https://pandas.pydata.org/pandas-docs/stable/user_guide/indexing.html#returning-a-view-versus-a-copy\n",
      "  df_ball_positions['ball_hit'].iloc[i] =1\n",
      "C:\\Users\\alaga\\AppData\\Local\\Temp\\ipykernel_11016\\2021909761.py:17: FutureWarning: ChainedAssignmentError: behaviour will change in pandas 3.0!\n",
      "You are setting values through chained assignment. Currently this works in certain cases, but when using Copy-on-Write (which will become the default behaviour in pandas 3.0) this will never work to update the original DataFrame or Series, because the intermediate object on which we are setting values will behave as a copy.\n",
      "A typical example is when you are setting values in a column of a DataFrame, like:\n",
      "\n",
      "df[\"col\"][row_indexer] = value\n",
      "\n",
      "Use `df.loc[row_indexer, \"col\"] = values` instead, to perform the assignment in a single step and ensure this keeps updating the original `df`.\n",
      "\n",
      "See the caveats in the documentation: https://pandas.pydata.org/pandas-docs/stable/user_guide/indexing.html#returning-a-view-versus-a-copy\n",
      "\n",
      "  df_ball_positions['ball_hit'].iloc[i] =1\n",
      "C:\\Users\\alaga\\AppData\\Local\\Temp\\ipykernel_11016\\2021909761.py:17: SettingWithCopyWarning: \n",
      "A value is trying to be set on a copy of a slice from a DataFrame\n",
      "\n",
      "See the caveats in the documentation: https://pandas.pydata.org/pandas-docs/stable/user_guide/indexing.html#returning-a-view-versus-a-copy\n",
      "  df_ball_positions['ball_hit'].iloc[i] =1\n"
     ]
    }
   ],
   "source": [
    "minimum_change_frames_for_hit = 25\n",
    "for i in range(1,len(df_ball_positions)-int(minimum_change_frames_for_hit*1.2)):\n",
    "    negative_position_change = df_ball_positions['delta_y'].iloc[i]>0 and df_ball_positions['delta_y'].iloc[i+1] <0\n",
    "    positive_position_change = df_ball_positions['delta_y'].iloc[i]<0 and df_ball_positions['delta_y'].iloc[i+1] >0\n",
    "\n",
    "    if negative_position_change or positive_position_change:\n",
    "        change_count = 0\n",
    "        for change_frame in range(i+1, i+int(minimum_change_frames_for_hit*1.2)+1):\n",
    "            negative_position_change_following_frame = df_ball_positions['delta_y'].iloc[i]>0 and df_ball_positions['delta_y'].iloc[change_frame] <0\n",
    "            positive_position_change_following_frame = df_ball_positions['delta_y'].iloc[i]<0 and df_ball_positions['delta_y'].iloc[change_frame] >0\n",
    "\n",
    "            if negative_position_change and negative_position_change_following_frame:\n",
    "                change_count+=1\n",
    "            elif positive_position_change and positive_position_change_following_frame:\n",
    "                change_count+=1\n",
    "        if change_count > minimum_change_frames_for_hit-1:\n",
    "            df_ball_positions['ball_hit'].iloc[i] = 1\n",
    "\n",
    "frame_nums_with_ball_hits = df_ball_positions[df_ball_positions['ball_hit']==1].index.tolist()\n"
   ]
  },
  {
   "cell_type": "code",
   "execution_count": 18,
   "metadata": {},
   "outputs": [
    {
     "data": {
      "text/html": [
       "<div>\n",
       "<style scoped>\n",
       "    .dataframe tbody tr th:only-of-type {\n",
       "        vertical-align: middle;\n",
       "    }\n",
       "\n",
       "    .dataframe tbody tr th {\n",
       "        vertical-align: top;\n",
       "    }\n",
       "\n",
       "    .dataframe thead th {\n",
       "        text-align: right;\n",
       "    }\n",
       "</style>\n",
       "<table border=\"1\" class=\"dataframe\">\n",
       "  <thead>\n",
       "    <tr style=\"text-align: right;\">\n",
       "      <th></th>\n",
       "      <th>x1</th>\n",
       "      <th>y1</th>\n",
       "      <th>x2</th>\n",
       "      <th>y2</th>\n",
       "      <th>mid_y</th>\n",
       "      <th>mid_y_rolling_mean</th>\n",
       "      <th>delta_y</th>\n",
       "      <th>ball_hit</th>\n",
       "    </tr>\n",
       "  </thead>\n",
       "  <tbody>\n",
       "    <tr>\n",
       "      <th>11</th>\n",
       "      <td>775.274414</td>\n",
       "      <td>715.736572</td>\n",
       "      <td>799.397461</td>\n",
       "      <td>740.051575</td>\n",
       "      <td>727.894073</td>\n",
       "      <td>736.645013</td>\n",
       "      <td>6.548096</td>\n",
       "      <td>1</td>\n",
       "    </tr>\n",
       "    <tr>\n",
       "      <th>58</th>\n",
       "      <td>922.376160</td>\n",
       "      <td>234.768514</td>\n",
       "      <td>940.186279</td>\n",
       "      <td>254.438024</td>\n",
       "      <td>244.603269</td>\n",
       "      <td>241.399622</td>\n",
       "      <td>-2.032537</td>\n",
       "      <td>1</td>\n",
       "    </tr>\n",
       "    <tr>\n",
       "      <th>95</th>\n",
       "      <td>622.919556</td>\n",
       "      <td>747.773499</td>\n",
       "      <td>641.906769</td>\n",
       "      <td>768.585846</td>\n",
       "      <td>758.179672</td>\n",
       "      <td>774.683939</td>\n",
       "      <td>0.787241</td>\n",
       "      <td>1</td>\n",
       "    </tr>\n",
       "    <tr>\n",
       "      <th>131</th>\n",
       "      <td>712.657111</td>\n",
       "      <td>226.457225</td>\n",
       "      <td>730.431322</td>\n",
       "      <td>244.988118</td>\n",
       "      <td>235.722672</td>\n",
       "      <td>234.898117</td>\n",
       "      <td>-0.529108</td>\n",
       "      <td>1</td>\n",
       "    </tr>\n",
       "    <tr>\n",
       "      <th>182</th>\n",
       "      <td>1293.774048</td>\n",
       "      <td>739.246399</td>\n",
       "      <td>1313.961060</td>\n",
       "      <td>760.794617</td>\n",
       "      <td>750.020508</td>\n",
       "      <td>736.949454</td>\n",
       "      <td>6.358756</td>\n",
       "      <td>1</td>\n",
       "    </tr>\n",
       "  </tbody>\n",
       "</table>\n",
       "</div>"
      ],
      "text/plain": [
       "              x1          y1           x2          y2       mid_y  \\\n",
       "11    775.274414  715.736572   799.397461  740.051575  727.894073   \n",
       "58    922.376160  234.768514   940.186279  254.438024  244.603269   \n",
       "95    622.919556  747.773499   641.906769  768.585846  758.179672   \n",
       "131   712.657111  226.457225   730.431322  244.988118  235.722672   \n",
       "182  1293.774048  739.246399  1313.961060  760.794617  750.020508   \n",
       "\n",
       "     mid_y_rolling_mean   delta_y  ball_hit  \n",
       "11           736.645013  6.548096         1  \n",
       "58           241.399622 -2.032537         1  \n",
       "95           774.683939  0.787241         1  \n",
       "131          234.898117 -0.529108         1  \n",
       "182          736.949454  6.358756         1  "
      ]
     },
     "execution_count": 18,
     "metadata": {},
     "output_type": "execute_result"
    }
   ],
   "source": [
    "df_ball_positions[df_ball_positions['ball_hit']==1]"
   ]
  },
  {
   "cell_type": "code",
   "execution_count": 20,
   "metadata": {},
   "outputs": [
    {
     "data": {
      "text/plain": [
       "[11, 58, 95, 131, 182]"
      ]
     },
     "execution_count": 20,
     "metadata": {},
     "output_type": "execute_result"
    }
   ],
   "source": [
    "frame_nums_with_ball_hits = df_ball_positions[df_ball_positions['ball_hit']==1].index.tolist()"
   ]
  },
  {
   "cell_type": "code",
   "execution_count": null,
   "metadata": {},
   "outputs": [],
   "source": []
  }
 ],
 "metadata": {
  "kernelspec": {
   "display_name": "env52",
   "language": "python",
   "name": "python3"
  },
  "language_info": {
   "codemirror_mode": {
    "name": "ipython",
    "version": 3
   },
   "file_extension": ".py",
   "mimetype": "text/x-python",
   "name": "python",
   "nbconvert_exporter": "python",
   "pygments_lexer": "ipython3",
   "version": "3.9.18"
  }
 },
 "nbformat": 4,
 "nbformat_minor": 2
}
